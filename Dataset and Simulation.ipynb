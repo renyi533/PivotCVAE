{
 "cells": [
  {
   "cell_type": "markdown",
   "metadata": {},
   "source": [
    "## 1. Real-world Datasets\n",
    "\n",
    "* Yoochoose\n",
    "* MovieLens"
   ]
  },
  {
   "cell_type": "markdown",
   "metadata": {},
   "source": [
    "### 1.1 Preprocess Yoochoose\n",
    "\n",
    "Preprocessing:"
   ]
  },
  {
   "cell_type": "code",
   "execution_count": 1,
   "metadata": {},
   "outputs": [
    {
     "name": "stdout",
     "output_type": "stream",
     "text": [
      "Original feature shape\n",
      "Train: (273557, 5)\n",
      "Val: (14398, 5)\n",
      "Test: (15155, 5)\n",
      "Unique items: 2\n",
      "Unique users: 206036\n"
     ]
    },
    {
     "name": "stderr",
     "output_type": "stream",
     "text": [
      " 12%|█▏        | 30234/248999 [00:00<00:00, 302294.88it/s]"
     ]
    },
    {
     "name": "stdout",
     "output_type": "stream",
     "text": [
      "New feature shape\n",
      "Train: (248999, 5)\n",
      "Val: (26966, 5)\n",
      "Test: (27145, 5)\n"
     ]
    },
    {
     "name": "stderr",
     "output_type": "stream",
     "text": [
      "100%|██████████| 248999/248999 [00:00<00:00, 260949.81it/s]\n",
      "100%|██████████| 248999/248999 [00:00<00:00, 855239.56it/s]\n",
      "100%|██████████| 26966/26966 [00:00<00:00, 257750.74it/s]\n",
      "100%|██████████| 26966/26966 [00:00<00:00, 807381.14it/s]\n",
      "100%|██████████| 27145/27145 [00:00<00:00, 243322.27it/s]\n",
      "100%|██████████| 27145/27145 [00:00<00:00, 750973.77it/s]\n"
     ]
    },
    {
     "name": "stdout",
     "output_type": "stream",
     "text": [
      "Unique items: 10098\n",
      "Unique users: 206036\n"
     ]
    }
   ],
   "source": [
    "# encode user(sessions) and items\n",
    "from data_extract import encode_yoochoose\n",
    "encode_yoochoose()"
   ]
  },
  {
   "cell_type": "code",
   "execution_count": 2,
   "metadata": {},
   "outputs": [
    {
     "name": "stderr",
     "output_type": "stream",
     "text": [
      "\r",
      "  0%|          | 0/34428 [00:00<?, ?it/s]"
     ]
    },
    {
     "name": "stdout",
     "output_type": "stream",
     "text": [
      "Before augmentation: \n",
      "(array([0., 1., 2., 3., 4., 5.]), array([26673, 95529, 70332, 35962, 15486,  5017]))\n",
      "Augmenting data for #click == 0\n",
      "Number of new record: 34428\n"
     ]
    },
    {
     "name": "stderr",
     "output_type": "stream",
     "text": [
      "100%|██████████| 34428/34428 [00:00<00:00, 106584.00it/s]\n",
      "0it [00:00, ?it/s]\n",
      "100%|██████████| 12598/12598 [00:00<00:00, 90250.16it/s]\n",
      "  0%|          | 0/29783 [00:00<?, ?it/s]"
     ]
    },
    {
     "name": "stdout",
     "output_type": "stream",
     "text": [
      "Augmenting data for #click == 1\n",
      "Number of new record: 0\n",
      "Augmenting data for #click == 2\n",
      "Number of new record: 12598\n",
      "Augmenting data for #click == 3\n",
      "Number of new record: 29783\n"
     ]
    },
    {
     "name": "stderr",
     "output_type": "stream",
     "text": [
      "100%|██████████| 29783/29783 [00:00<00:00, 93999.37it/s]\n",
      " 25%|██▍       | 9808/40021 [00:00<00:00, 98066.53it/s]"
     ]
    },
    {
     "name": "stdout",
     "output_type": "stream",
     "text": [
      "Augmenting data for #click == 4\n",
      "Number of new record: 40021\n"
     ]
    },
    {
     "name": "stderr",
     "output_type": "stream",
     "text": [
      "100%|██████████| 40021/40021 [00:00<00:00, 101074.47it/s]\n",
      " 28%|██▊       | 12675/45256 [00:00<00:00, 126732.29it/s]"
     ]
    },
    {
     "name": "stdout",
     "output_type": "stream",
     "text": [
      "Augmenting data for #click == 5\n",
      "Number of new record: 45256\n"
     ]
    },
    {
     "name": "stderr",
     "output_type": "stream",
     "text": [
      "100%|██████████| 45256/45256 [00:00<00:00, 133948.55it/s]\n"
     ]
    },
    {
     "name": "stdout",
     "output_type": "stream",
     "text": [
      "After augmentation: \n",
      "(array([0., 1., 2., 3., 4., 5.]), array([61101, 95529, 82930, 65745, 55507, 50273]))\n"
     ]
    }
   ],
   "source": [
    "# balance number of click\n",
    "from data_extract import balance_n_click, DATA_ROOT\n",
    "import pickle\n",
    "train = pickle.load(open(DATA_ROOT + \"yoochoose-data/encoded_train.pkl\", 'rb'))\n",
    "slates, users, responses = balance_n_click(train[\"features\"], train[\"sessions\"], train[\"responses\"])\n",
    "pickle.dump({\"features\": slates, \"sessions\": users, \"responses\": responses}, \\\n",
    "            open(DATA_ROOT + \"yoochoose-data/encoded_train.pkl\", 'wb'))"
   ]
  },
  {
   "cell_type": "code",
   "execution_count": 3,
   "metadata": {},
   "outputs": [],
   "source": [
    "# construct single dataset 'entire' for training response model\n",
    "import pickle\n",
    "train = pickle.load(open(DATA_ROOT + \"yoochoose-data/encoded_train.pkl\", 'rb'))\n",
    "val = pickle.load(open(DATA_ROOT + \"yoochoose-data/encoded_val.pkl\", 'rb'))\n",
    "test = pickle.load(open(DATA_ROOT + \"yoochoose-data/encoded_test.pkl\", 'rb'))\n",
    "import numpy as np\n",
    "pickle.dump({\"features\": np.concatenate([train[\"features\"], val[\"features\"], test[\"features\"]], axis = 0), \\\n",
    "             \"sessions\": np.concatenate([train[\"sessions\"], val[\"sessions\"], test[\"sessions\"]], axis = 0), \\\n",
    "             \"responses\": np.concatenate([train[\"responses\"], val[\"responses\"], test[\"responses\"]], axis = 0)}, \\\n",
    "            open(DATA_ROOT + \"yoochoose-data/encoded_entire.pkl\", 'wb'))"
   ]
  },
  {
   "cell_type": "markdown",
   "metadata": {},
   "source": [
    "### 1.2 MovieLens\n",
    "\n",
    "Preprocessing: balance_n_click"
   ]
  },
  {
   "cell_type": "code",
   "execution_count": 1,
   "metadata": {},
   "outputs": [
    {
     "name": "stderr",
     "output_type": "stream",
     "text": [
      "2393it [00:00, 229327.34it/s]\n",
      "2393it [00:00, 880127.10it/s]\n",
      "2393it [00:00, 299978.17it/s]\n",
      "19633it [00:00, 261842.25it/s]\n",
      "19633it [00:00, 957888.15it/s]\n",
      "0it [00:00, ?it/s]"
     ]
    },
    {
     "name": "stdout",
     "output_type": "stream",
     "text": [
      "Load data from \"../data/movielens/test_slate.csv\"\n",
      "Load data from \"../data/movielens/test_user.csv\"\n",
      "Load data from \"../data/movielens/test_resp.csv\"\n",
      "Load data from \"../data/movielens/entire_slate.csv\"\n",
      "Load data from \"../data/movielens/entire_user.csv\"\n",
      "Load data from \"../data/movielens/entire_resp.csv\"\n"
     ]
    },
    {
     "name": "stderr",
     "output_type": "stream",
     "text": [
      "19633it [00:00, 297788.18it/s]\n"
     ]
    },
    {
     "name": "stdout",
     "output_type": "stream",
     "text": [
      "dir \"results\" existed\n"
     ]
    },
    {
     "data": {
      "image/png": "[encoded data removed]",
      "text/plain": [
       "<Figure size 720x288 with 1 Axes>"
      ]
     },
     "metadata": {
      "needs_background": "light"
     },
     "output_type": "display_data"
    }
   ],
   "source": [
    "import data_extract as dae\n",
    "trainset, valset = dae.read_movielens(entire = True)\n",
    "from plot import plot_slate_response_distribution\n",
    "%matplotlib inline\n",
    "plot_slate_response_distribution(trainset[\"responses\"])"
   ]
  },
  {
   "cell_type": "code",
   "execution_count": 3,
   "metadata": {},
   "outputs": [
    {
     "name": "stderr",
     "output_type": "stream",
     "text": [
      "100%|██████████| 1173/1173 [00:00<00:00, 62536.30it/s]\n",
      "100%|██████████| 811/811 [00:00<00:00, 64843.89it/s]\n",
      "100%|██████████| 312/312 [00:00<00:00, 61704.21it/s]\n",
      "0it [00:00, ?it/s]\n",
      "100%|██████████| 67/67 [00:00<00:00, 52962.38it/s]\n",
      "100%|██████████| 614/614 [00:00<00:00, 55594.47it/s]"
     ]
    },
    {
     "name": "stdout",
     "output_type": "stream",
     "text": [
      "Before augmentation: \n",
      "(array([0, 1, 2, 3, 4, 5]), array([1919, 2642, 3640, 4265, 4131, 3036]))\n",
      "Augmenting data for #click == 0\n",
      "Number of new record: 1173\n",
      "Augmenting data for #click == 1\n",
      "Number of new record: 811\n",
      "Augmenting data for #click == 2\n",
      "Number of new record: 312\n",
      "Augmenting data for #click == 3\n",
      "Number of new record: 0\n",
      "Augmenting data for #click == 4\n",
      "Number of new record: 67\n",
      "Augmenting data for #click == 5\n",
      "Number of new record: 614\n",
      "After augmentation: \n",
      "(array([0., 1., 2., 3., 4., 5.]), array([3092, 3453, 3952, 4265, 4198, 3650]))\n"
     ]
    },
    {
     "name": "stderr",
     "output_type": "stream",
     "text": [
      "\n"
     ]
    }
   ],
   "source": [
    "from data_extract import balance_n_click\n",
    "slates, users, responses = balance_n_click(trainset[\"features\"], trainset[\"sessions\"], trainset[\"responses\"])"
   ]
  },
  {
   "cell_type": "markdown",
   "metadata": {},
   "source": [
    "## 2. Simulation Environments\n",
    "\n",
    "Recommendation test environment is provided as user response model p(r|s):\n",
    "\n",
    "* urm: plain user response model\n",
    "* urm_p: urm with item positional bias\n",
    "* urm_p_mr: urm_p with multi-item relations\n"
   ]
  },
  {
   "cell_type": "markdown",
   "metadata": {},
   "source": [
    "### 2.1 Create Simulation Environment"
   ]
  },
  {
   "cell_type": "code",
   "execution_count": 1,
   "metadata": {},
   "outputs": [
    {
     "name": "stdout",
     "output_type": "stream",
     "text": [
      "Namespace(balance=False, dataset='urmpmr', mr_factor=0.3, n_item=3000, n_test=10000, n_train=100000, n_user=1000, n_val=10000, nouser=False, pbias_max=0.1, pbias_min=-0.1, s=5, sim_dim=8, sim_root=False)\n"
     ]
    }
   ],
   "source": [
    "import argparse\n",
    "import data_extract as dae\n",
    "parser = argparse.ArgumentParser()\n",
    "parser = dae.add_sim_parse(parser)\n",
    "parser = dae.add_data_parse(parser)\n",
    "args = parser.parse_args(\"\")\n",
    "\n",
    "args.n_user = 1000\n",
    "args.n_item = 3000\n",
    "args.dataset = \"urmpmr\"\n",
    "args.pbias_min = -0.1\n",
    "args.pbias_max = 0.1\n",
    "args.mr_factor = 0.3\n",
    "# args.balance = True\n",
    "print(args)"
   ]
  },
  {
   "cell_type": "code",
   "execution_count": 2,
   "metadata": {},
   "outputs": [
    {
     "name": "stdout",
     "output_type": "stream",
     "text": [
      "dir \"log\" existed\n",
      "Log file path:\n",
      "log/sim.txt+++++++++++++++++++++++\n",
      "Construct simulation data\n",
      "\tdevice: cpu\n",
      "\tCreating document latent embedding\n",
      "\t\tDoc embedding sample: tensor([-0.2238, -0.2920, -0.3232, -0.2132,  0.3595, -0.0097,  0.2984,  0.4330],\n",
      "       grad_fn=<SelectBackward>)\n",
      "\tCreating user latent embedding\n",
      "\t\tUser embedding sample: tensor([-0.0508,  0.4014,  0.3101,  0.4193,  0.1632, -0.0249, -0.4665,  0.1705],\n",
      "       grad_fn=<SelectBackward>)\n",
      "generating training set\n"
     ]
    },
    {
     "name": "stderr",
     "output_type": "stream",
     "text": [
      "100%|██████████| 10010/10010 [00:00<00:00, 166419.52it/s]\n",
      "  0%|          | 0/30010 [00:00<?, ?it/s]"
     ]
    },
    {
     "name": "stdout",
     "output_type": "stream",
     "text": [
      "Guarantee min_user_hist requirement:\n",
      "Guarantee min_item_hist requirement:\n"
     ]
    },
    {
     "name": "stderr",
     "output_type": "stream",
     "text": [
      "100%|██████████| 30010/30010 [00:00<00:00, 176633.38it/s]\n",
      " 31%|███       | 18688/59980 [00:00<00:00, 185723.58it/s]"
     ]
    },
    {
     "name": "stdout",
     "output_type": "stream",
     "text": [
      "Generate the remaining data\n"
     ]
    },
    {
     "name": "stderr",
     "output_type": "stream",
     "text": [
      "100%|██████████| 59980/59980 [00:00<00:00, 169501.42it/s]"
     ]
    },
    {
     "name": "stdout",
     "output_type": "stream",
     "text": [
      "Number of click distribution: (array([0, 1, 2, 3, 4, 5]), array([  535,  5767, 16061, 21190, 13228,  3199]))\n",
      "Initialize dataset\n",
      "Slates shape: (100000, 5)\n",
      "Users shape: (100000,)\n",
      "Response shape: (100000, 5)\n",
      "Unique items: 3001\n",
      "Unique users: 1001\n",
      "User embedding is used\n",
      "generating validation set\n"
     ]
    },
    {
     "name": "stderr",
     "output_type": "stream",
     "text": [
      "\n",
      "100%|██████████| 1001/1001 [00:00<00:00, 154920.42it/s]\n",
      "100%|██████████| 3001/3001 [00:00<00:00, 125419.55it/s]\n",
      "100%|██████████| 5998/5998 [00:00<00:00, 157371.67it/s]"
     ]
    },
    {
     "name": "stdout",
     "output_type": "stream",
     "text": [
      "Guarantee min_user_hist requirement:\n",
      "Guarantee min_item_hist requirement:\n",
      "Generate the remaining data\n",
      "Number of click distribution: (array([0, 1, 2, 3, 4, 5]), array([  46,  584, 1605, 2111, 1342,  310]))\n",
      "Initialize dataset\n",
      "Slates shape: (10000, 5)\n",
      "Users shape: (10000,)\n",
      "Response shape: (10000, 5)\n",
      "Unique items: 3001\n",
      "Unique users: 1001\n",
      "User embedding is used\n",
      "save simulator and generated datasets\n"
     ]
    },
    {
     "name": "stderr",
     "output_type": "stream",
     "text": [
      "\n"
     ]
    }
   ],
   "source": [
    "from my_utils import Logger\n",
    "logger = Logger(\"log/sim.txt\")\n",
    "simulator, trainset, valset = dae.load_simulation(args, logger)"
   ]
  },
  {
   "cell_type": "markdown",
   "metadata": {},
   "source": [
    "### 2.2 Simulation Distribution Made Similar to That of Real-world Data\n",
    "\n",
    "Run 2.1 with balance=True or run the following after running 2.1 with balance=False:"
   ]
  },
  {
   "cell_type": "code",
   "execution_count": 3,
   "metadata": {},
   "outputs": [
    {
     "name": "stdout",
     "output_type": "stream",
     "text": [
      "dir \"results\" existed\n"
     ]
    },
    {
     "data": {
      "image/png": "[encoded data removed]",
      "text/plain": [
       "<Figure size 720x288 with 1 Axes>"
      ]
     },
     "metadata": {
      "needs_background": "light"
     },
     "output_type": "display_data"
    }
   ],
   "source": [
    "from plot import plot_slate_response_distribution\n",
    "%matplotlib inline\n",
    "plot_slate_response_distribution(trainset.responses)"
   ]
  },
  {
   "cell_type": "code",
   "execution_count": 4,
   "metadata": {},
   "outputs": [
    {
     "name": "stderr",
     "output_type": "stream",
     "text": [
      "100%|██████████| 17166/17166 [00:00<00:00, 147460.63it/s]\n",
      "  0%|          | 0/12830 [00:00<?, ?it/s]"
     ]
    },
    {
     "name": "stdout",
     "output_type": "stream",
     "text": [
      "Initialize dataset\n",
      "Slates shape: (100000, 5)\n",
      "Users shape: (100000, 1)\n",
      "Response shape: (100000, 5)\n",
      "Unique items: 3001\n",
      "Unique users: 1001\n",
      "User embedding is used\n",
      "Before augmentation: \n",
      "(array([0., 1., 2., 3., 4., 5.]), array([  906,  9578, 26780, 35239, 22224,  5273]))\n",
      "Augmenting data for #click == 0\n",
      "Number of new record: 17166\n",
      "Augmenting data for #click == 1\n",
      "Number of new record: 12830\n"
     ]
    },
    {
     "name": "stderr",
     "output_type": "stream",
     "text": [
      "100%|██████████| 12830/12830 [00:00<00:00, 98601.26it/s] \n",
      "100%|██████████| 4229/4229 [00:00<00:00, 119688.47it/s]\n",
      "0it [00:00, ?it/s]\n",
      "100%|██████████| 6507/6507 [00:00<00:00, 126867.93it/s]\n",
      "  0%|          | 0/14983 [00:00<?, ?it/s]"
     ]
    },
    {
     "name": "stdout",
     "output_type": "stream",
     "text": [
      "Augmenting data for #click == 2\n",
      "Number of new record: 4229\n",
      "Augmenting data for #click == 3\n",
      "Number of new record: 0\n",
      "Augmenting data for #click == 4\n",
      "Number of new record: 6507\n",
      "Augmenting data for #click == 5\n",
      "Number of new record: 14983\n"
     ]
    },
    {
     "name": "stderr",
     "output_type": "stream",
     "text": [
      "100%|██████████| 14983/14983 [00:00<00:00, 82924.39it/s]\n"
     ]
    },
    {
     "name": "stdout",
     "output_type": "stream",
     "text": [
      "After augmentation: \n",
      "(array([0., 1., 2., 3., 4., 5.]), array([18072, 22408, 31009, 35239, 28731, 20256]))\n",
      "Number of records: 155715\n"
     ]
    }
   ],
   "source": [
    "from data_loader import UserSlateResponseDataset\n",
    "trainset = UserSlateResponseDataset(trainset.slates, trainset.users, trainset.responses, args.nouser)\n",
    "trainset.balance_n_click()"
   ]
  },
  {
   "cell_type": "code",
   "execution_count": 5,
   "metadata": {},
   "outputs": [
    {
     "name": "stdout",
     "output_type": "stream",
     "text": [
      "dir \"results\" existed\n"
     ]
    },
    {
     "data": {
      "image/png": "[encoded data removed]",
      "text/plain": [
       "<Figure size 720x288 with 1 Axes>"
      ]
     },
     "metadata": {
      "needs_background": "light"
     },
     "output_type": "display_data"
    }
   ],
   "source": [
    "%matplotlib inline\n",
    "plot_slate_response_distribution(trainset.responses)"
   ]
  },
  {
   "cell_type": "markdown",
   "metadata": {},
   "source": [
    "### 2.3 Generate More Datasets from Simulator\n",
    "\n",
    "Run 2.1 first, then run:"
   ]
  },
  {
   "cell_type": "code",
   "execution_count": 6,
   "metadata": {},
   "outputs": [
    {
     "name": "stderr",
     "output_type": "stream",
     "text": [
      "100%|██████████| 10010/10010 [00:00<00:00, 105064.37it/s]\n",
      "  0%|          | 0/30010 [00:00<?, ?it/s]"
     ]
    },
    {
     "name": "stdout",
     "output_type": "stream",
     "text": [
      "Guarantee min_user_hist requirement:\n",
      "Guarantee min_item_hist requirement:\n"
     ]
    },
    {
     "name": "stderr",
     "output_type": "stream",
     "text": [
      "100%|██████████| 30010/30010 [00:00<00:00, 140374.41it/s]\n",
      " 25%|██▍       | 14976/59980 [00:00<00:00, 149011.94it/s]"
     ]
    },
    {
     "name": "stdout",
     "output_type": "stream",
     "text": [
      "Generate the remaining data\n"
     ]
    },
    {
     "name": "stderr",
     "output_type": "stream",
     "text": [
      "100%|██████████| 59980/59980 [00:00<00:00, 138542.97it/s]"
     ]
    },
    {
     "name": "stdout",
     "output_type": "stream",
     "text": [
      "Number of click distribution: (array([0, 1, 2, 3, 4, 5]), array([  534,  5613, 15966, 21369, 13395,  3103]))\n"
     ]
    },
    {
     "name": "stderr",
     "output_type": "stream",
     "text": [
      "\n"
     ]
    }
   ],
   "source": [
    "users, slates, responses = simulator.generate_dataset(min_user_hist = 10, min_item_hist = 10, n_record = args.n_train)"
   ]
  },
  {
   "cell_type": "markdown",
   "metadata": {},
   "source": [
    "### 2.4 Directly Interact with the Environment"
   ]
  },
  {
   "cell_type": "code",
   "execution_count": 7,
   "metadata": {},
   "outputs": [
    {
     "data": {
      "text/plain": [
       "tensor([[0.4475, 0.4189, 0.3619, 0.3825, 0.4109],\n",
       "        [0.6587, 0.5504, 0.3752, 0.8137, 0.4745],\n",
       "        [0.2670, 0.4182, 0.5624, 0.2035, 0.5300],\n",
       "        [0.6893, 0.3789, 0.0226, 0.3548, 0.7511]], grad_fn=<AddBackward0>)"
      ]
     },
     "execution_count": 7,
     "metadata": {},
     "output_type": "execute_result"
    }
   ],
   "source": [
    "import torch\n",
    "import numpy as np\n",
    "slates = torch.tensor([np.arange(5), np.arange(5)+5, np.arange(5)+10, np.arange(5)+15])\n",
    "users = torch.tensor([0,1,2,4])\n",
    "simulator.forward(slates, users)"
   ]
  },
  {
   "cell_type": "code",
   "execution_count": 8,
   "metadata": {},
   "outputs": [
    {
     "name": "stderr",
     "output_type": "stream",
     "text": [
      "100%|██████████| 4/4 [00:00<00:00, 1418.55it/s]\n"
     ]
    },
    {
     "data": {
      "text/plain": [
       "tensor([[0, 0, 0, 0, 0],\n",
       "        [1, 1, 0, 1, 0],\n",
       "        [0, 0, 1, 0, 1],\n",
       "        [1, 0, 0, 0, 1]])"
      ]
     },
     "execution_count": 8,
     "metadata": {},
     "output_type": "execute_result"
    }
   ],
   "source": [
    "simulator.generate_response_for_dataset(users, slates)"
   ]
  },
  {
   "cell_type": "code",
   "execution_count": 1,
   "metadata": {},
   "outputs": [
    {
     "name": "stdout",
     "output_type": "stream",
     "text": [
      "Load data from \"~/Downloads/data/movielens/test_slate.csv\"\n"
     ]
    },
    {
     "ename": "FileNotFoundError",
     "evalue": "[Errno 2] No such file or directory: '~/Downloads/data/movielens/test_slate.csv'",
     "output_type": "error",
     "traceback": [
      "\u001b[0;31m---------------------------------------------------------------------------\u001b[0m",
      "\u001b[0;31mFileNotFoundError\u001b[0m                         Traceback (most recent call last)",
      "\u001b[0;32m<ipython-input-1-c43f1843774a>\u001b[0m in \u001b[0;36m<module>\u001b[0;34m\u001b[0m\n\u001b[1;32m      1\u001b[0m \u001b[0;32mimport\u001b[0m \u001b[0mdata_extract\u001b[0m \u001b[0;32mas\u001b[0m \u001b[0mdae\u001b[0m\u001b[0;34m\u001b[0m\u001b[0;34m\u001b[0m\u001b[0m\n\u001b[0;32m----> 2\u001b[0;31m \u001b[0mtrainset\u001b[0m\u001b[0;34m,\u001b[0m \u001b[0mvalset\u001b[0m \u001b[0;34m=\u001b[0m \u001b[0mdae\u001b[0m\u001b[0;34m.\u001b[0m\u001b[0mread_movielens\u001b[0m\u001b[0;34m(\u001b[0m\u001b[0mentire\u001b[0m \u001b[0;34m=\u001b[0m \u001b[0;32mTrue\u001b[0m\u001b[0;34m)\u001b[0m\u001b[0;34m\u001b[0m\u001b[0;34m\u001b[0m\u001b[0m\n\u001b[0m\u001b[1;32m      3\u001b[0m \u001b[0;32mfrom\u001b[0m \u001b[0mplot\u001b[0m \u001b[0;32mimport\u001b[0m \u001b[0mplot_slate_response_distribution\u001b[0m\u001b[0;34m\u001b[0m\u001b[0;34m\u001b[0m\u001b[0m\n\u001b[1;32m      4\u001b[0m \u001b[0mget_ipython\u001b[0m\u001b[0;34m(\u001b[0m\u001b[0;34m)\u001b[0m\u001b[0;34m.\u001b[0m\u001b[0mrun_line_magic\u001b[0m\u001b[0;34m(\u001b[0m\u001b[0;34m'matplotlib'\u001b[0m\u001b[0;34m,\u001b[0m \u001b[0;34m'inline'\u001b[0m\u001b[0;34m)\u001b[0m\u001b[0;34m\u001b[0m\u001b[0;34m\u001b[0m\u001b[0m\n\u001b[1;32m      5\u001b[0m \u001b[0mplot_slate_response_distribution\u001b[0m\u001b[0;34m(\u001b[0m\u001b[0mtrainset\u001b[0m\u001b[0;34m[\u001b[0m\u001b[0;34m\"responses\"\u001b[0m\u001b[0;34m]\u001b[0m\u001b[0;34m)\u001b[0m\u001b[0;34m\u001b[0m\u001b[0;34m\u001b[0m\u001b[0m\n",
      "\u001b[0;32m~/git/PivotCVAE/data_extract.py\u001b[0m in \u001b[0;36mread_movielens\u001b[0;34m(entire)\u001b[0m\n\u001b[1;32m     57\u001b[0m \u001b[0;32mdef\u001b[0m \u001b[0mread_movielens\u001b[0m\u001b[0;34m(\u001b[0m\u001b[0mentire\u001b[0m \u001b[0;34m=\u001b[0m \u001b[0;32mFalse\u001b[0m\u001b[0;34m)\u001b[0m\u001b[0;34m:\u001b[0m\u001b[0;34m\u001b[0m\u001b[0;34m\u001b[0m\u001b[0m\n\u001b[1;32m     58\u001b[0m     testset = {\n\u001b[0;32m---> 59\u001b[0;31m         \u001b[0;34m\"features\"\u001b[0m\u001b[0;34m:\u001b[0m \u001b[0mread_lines\u001b[0m\u001b[0;34m(\u001b[0m\u001b[0mDATA_ROOT\u001b[0m \u001b[0;34m+\u001b[0m \u001b[0;34m\"movielens/test_slate.csv\"\u001b[0m\u001b[0;34m,\u001b[0m \u001b[0;34m[\u001b[0m\u001b[0mint\u001b[0m\u001b[0;34m,\u001b[0m \u001b[0mint\u001b[0m\u001b[0;34m,\u001b[0m \u001b[0mint\u001b[0m\u001b[0;34m,\u001b[0m \u001b[0mint\u001b[0m\u001b[0;34m,\u001b[0m \u001b[0mint\u001b[0m\u001b[0;34m]\u001b[0m\u001b[0;34m)\u001b[0m\u001b[0;34m,\u001b[0m\u001b[0;34m\u001b[0m\u001b[0;34m\u001b[0m\u001b[0m\n\u001b[0m\u001b[1;32m     60\u001b[0m         \u001b[0;34m\"sessions\"\u001b[0m\u001b[0;34m:\u001b[0m \u001b[0mread_lines\u001b[0m\u001b[0;34m(\u001b[0m\u001b[0mDATA_ROOT\u001b[0m \u001b[0;34m+\u001b[0m \u001b[0;34m\"movielens/test_user.csv\"\u001b[0m\u001b[0;34m,\u001b[0m \u001b[0;34m[\u001b[0m\u001b[0mint\u001b[0m\u001b[0;34m]\u001b[0m\u001b[0;34m)\u001b[0m\u001b[0;34m,\u001b[0m\u001b[0;34m\u001b[0m\u001b[0;34m\u001b[0m\u001b[0m\n\u001b[1;32m     61\u001b[0m         \u001b[0;34m\"responses\"\u001b[0m\u001b[0;34m:\u001b[0m \u001b[0mread_lines\u001b[0m\u001b[0;34m(\u001b[0m\u001b[0mDATA_ROOT\u001b[0m \u001b[0;34m+\u001b[0m \u001b[0;34m\"movielens/test_resp.csv\"\u001b[0m\u001b[0;34m,\u001b[0m \u001b[0;34m[\u001b[0m\u001b[0mint\u001b[0m\u001b[0;34m,\u001b[0m \u001b[0mint\u001b[0m\u001b[0;34m,\u001b[0m \u001b[0mint\u001b[0m\u001b[0;34m,\u001b[0m \u001b[0mint\u001b[0m\u001b[0;34m,\u001b[0m \u001b[0mint\u001b[0m\u001b[0;34m]\u001b[0m\u001b[0;34m)\u001b[0m\u001b[0;34m\u001b[0m\u001b[0;34m\u001b[0m\u001b[0m\n",
      "\u001b[0;32m~/git/PivotCVAE/my_utils.py\u001b[0m in \u001b[0;36mread_lines\u001b[0;34m(fname, row_types, debug, limit)\u001b[0m\n\u001b[1;32m     17\u001b[0m \u001b[0;32mdef\u001b[0m \u001b[0mread_lines\u001b[0m\u001b[0;34m(\u001b[0m\u001b[0mfname\u001b[0m\u001b[0;34m,\u001b[0m \u001b[0mrow_types\u001b[0m \u001b[0;34m=\u001b[0m \u001b[0;34m[\u001b[0m\u001b[0mint\u001b[0m\u001b[0;34m,\u001b[0m \u001b[0mint\u001b[0m\u001b[0;34m,\u001b[0m \u001b[0mfloat\u001b[0m\u001b[0;34m]\u001b[0m\u001b[0;34m,\u001b[0m \u001b[0mdebug\u001b[0m \u001b[0;34m=\u001b[0m \u001b[0;32mFalse\u001b[0m\u001b[0;34m,\u001b[0m \u001b[0mlimit\u001b[0m \u001b[0;34m=\u001b[0m \u001b[0;34m-\u001b[0m\u001b[0;36m1\u001b[0m\u001b[0;34m)\u001b[0m\u001b[0;34m:\u001b[0m\u001b[0;34m\u001b[0m\u001b[0;34m\u001b[0m\u001b[0m\n\u001b[1;32m     18\u001b[0m     \u001b[0mprint\u001b[0m\u001b[0;34m(\u001b[0m\u001b[0;34m\"Load data from \\\"\"\u001b[0m \u001b[0;34m+\u001b[0m \u001b[0mfname\u001b[0m \u001b[0;34m+\u001b[0m \u001b[0;34m\"\\\"\"\u001b[0m\u001b[0;34m)\u001b[0m\u001b[0;34m\u001b[0m\u001b[0;34m\u001b[0m\u001b[0m\n\u001b[0;32m---> 19\u001b[0;31m     \u001b[0;32mwith\u001b[0m \u001b[0mopen\u001b[0m\u001b[0;34m(\u001b[0m\u001b[0mfname\u001b[0m\u001b[0;34m,\u001b[0m \u001b[0;34m\"r\"\u001b[0m\u001b[0;34m)\u001b[0m \u001b[0;32mas\u001b[0m \u001b[0mcsvFile\u001b[0m\u001b[0;34m:\u001b[0m\u001b[0;34m\u001b[0m\u001b[0;34m\u001b[0m\u001b[0m\n\u001b[0m\u001b[1;32m     20\u001b[0m         \u001b[0mfr\u001b[0m \u001b[0;34m=\u001b[0m \u001b[0mcsv\u001b[0m\u001b[0;34m.\u001b[0m\u001b[0mreader\u001b[0m\u001b[0;34m(\u001b[0m\u001b[0mcsvFile\u001b[0m\u001b[0;34m,\u001b[0m \u001b[0mdelimiter\u001b[0m \u001b[0;34m=\u001b[0m \u001b[0;34m\",\"\u001b[0m\u001b[0;34m)\u001b[0m\u001b[0;34m\u001b[0m\u001b[0;34m\u001b[0m\u001b[0m\n\u001b[1;32m     21\u001b[0m         \u001b[0mdata\u001b[0m \u001b[0;34m=\u001b[0m \u001b[0;34m[\u001b[0m\u001b[0;34m]\u001b[0m\u001b[0;34m\u001b[0m\u001b[0;34m\u001b[0m\u001b[0m\n",
      "\u001b[0;31mFileNotFoundError\u001b[0m: [Errno 2] No such file or directory: '~/Downloads/data/movielens/test_slate.csv'"
     ]
    }
   ],
   "source": [
    "import data_extract as dae\n",
    "trainset, valset = dae.read_movielens(entire = True)\n",
    "from plot import plot_slate_response_distribution\n",
    "%matplotlib inline\n",
    "plot_slate_response_distribution(trainset[\"responses\"])"
   ]
  },
  {
   "cell_type": "code",
   "execution_count": 2,
   "metadata": {},
   "outputs": [
    {
     "name": "stdout",
     "output_type": "stream",
     "text": [
      "Namespace(balance=False, dataset='urmpmr', mr_factor=0.3, n_item=3000, n_test=10000, n_train=100000, n_user=1000, n_val=10000, nouser=False, pbias_max=0.1, pbias_min=-0.1, s=5, sim_dim=8, sim_root=False)\n"
     ]
    }
   ],
   "source": [
    "import argparse\n",
    "import data_extract as dae\n",
    "parser = argparse.ArgumentParser()\n",
    "parser = dae.add_sim_parse(parser)\n",
    "parser = dae.add_data_parse(parser)\n",
    "args = parser.parse_args(\"\")\n",
    "\n",
    "args.n_user = 1000\n",
    "args.n_item = 3000\n",
    "args.dataset = \"urmpmr\"\n",
    "args.pbias_min = -0.1\n",
    "args.pbias_max = 0.1\n",
    "args.mr_factor = 0.3\n",
    "# args.balance = True\n",
    "print(args)"
   ]
  },
  {
   "cell_type": "code",
   "execution_count": 3,
   "metadata": {},
   "outputs": [
    {
     "name": "stdout",
     "output_type": "stream",
     "text": [
      "dir \"log\" existed\n",
      "Log file path:\n",
      "log/sim.txt\n",
      "Construct simulation data\n",
      "\tdevice: cpu\n",
      "\tCreating document latent embedding\n",
      "\t\tDoc embedding sample: tensor([-0.0464,  0.0734,  0.1851,  0.0589, -0.1013, -0.4939,  0.3167,  0.2357],\n",
      "       grad_fn=<SelectBackward>)\n",
      "\tCreating user latent embedding\n",
      "\t\tUser embedding sample: tensor([-0.0978,  0.4087, -0.0497, -0.0296,  0.1272, -0.2747, -0.4952, -0.4937],\n",
      "       grad_fn=<SelectBackward>)\n",
      "generating training set\n",
      "Guarantee min_user_hist requirement:\n"
     ]
    },
    {
     "name": "stderr",
     "output_type": "stream",
     "text": [
      "100%|██████████| 10010/10010 [00:00<00:00, 128308.90it/s]\n"
     ]
    },
    {
     "name": "stdout",
     "output_type": "stream",
     "text": [
      "Guarantee min_item_hist requirement:\n"
     ]
    },
    {
     "name": "stderr",
     "output_type": "stream",
     "text": [
      "100%|██████████| 30010/30010 [00:00<00:00, 197856.03it/s]\n"
     ]
    },
    {
     "name": "stdout",
     "output_type": "stream",
     "text": [
      "Generate the remaining data\n"
     ]
    },
    {
     "name": "stderr",
     "output_type": "stream",
     "text": [
      "100%|██████████| 59980/59980 [00:00<00:00, 173273.94it/s]"
     ]
    },
    {
     "name": "stdout",
     "output_type": "stream",
     "text": [
      "Number of click distribution: (array([0, 1, 2, 3, 4, 5]), array([  915,  6780, 16437, 20044, 12688,  3116]))\n",
      "Initialize dataset\n",
      "Slates shape: (100000, 5)\n",
      "Users shape: (100000,)\n",
      "Response shape: (100000, 5)\n",
      "Unique items: 3001\n",
      "Unique users: 1001\n",
      "User embedding is used\n",
      "generating validation set\n"
     ]
    },
    {
     "name": "stderr",
     "output_type": "stream",
     "text": [
      "\n"
     ]
    },
    {
     "name": "stdout",
     "output_type": "stream",
     "text": [
      "Guarantee min_user_hist requirement:\n"
     ]
    },
    {
     "name": "stderr",
     "output_type": "stream",
     "text": [
      "100%|██████████| 1001/1001 [00:00<00:00, 126054.53it/s]\n"
     ]
    },
    {
     "name": "stdout",
     "output_type": "stream",
     "text": [
      "Guarantee min_item_hist requirement:\n"
     ]
    },
    {
     "name": "stderr",
     "output_type": "stream",
     "text": [
      "100%|██████████| 3001/3001 [00:00<00:00, 127490.19it/s]\n"
     ]
    },
    {
     "name": "stdout",
     "output_type": "stream",
     "text": [
      "Generate the remaining data\n"
     ]
    },
    {
     "name": "stderr",
     "output_type": "stream",
     "text": [
      "100%|██████████| 5998/5998 [00:00<00:00, 140825.20it/s]"
     ]
    },
    {
     "name": "stdout",
     "output_type": "stream",
     "text": [
      "Number of click distribution: (array([0, 1, 2, 3, 4, 5]), array([  93,  633, 1634, 2030, 1269,  339]))\n",
      "Initialize dataset\n",
      "Slates shape: (10000, 5)\n",
      "Users shape: (10000,)\n",
      "Response shape: (10000, 5)\n",
      "Unique items: 3001\n",
      "Unique users: 1001\n",
      "User embedding is used\n",
      "save simulator and generated datasets\n"
     ]
    },
    {
     "name": "stderr",
     "output_type": "stream",
     "text": [
      "\n"
     ]
    },
    {
     "ename": "FileNotFoundError",
     "evalue": "[Errno 2] No such file or directory: '../sim_data/urmpmr_dim8_u1000_i3000_n100000_mr0.30_simulator'",
     "output_type": "error",
     "traceback": [
      "\u001b[0;31m---------------------------------------------------------------------------\u001b[0m",
      "\u001b[0;31mFileNotFoundError\u001b[0m                         Traceback (most recent call last)",
      "\u001b[0;32m<ipython-input-3-07d72fdb7e12>\u001b[0m in \u001b[0;36m<module>\u001b[0;34m\u001b[0m\n\u001b[1;32m      1\u001b[0m \u001b[0;32mfrom\u001b[0m \u001b[0mmy_utils\u001b[0m \u001b[0;32mimport\u001b[0m \u001b[0mLogger\u001b[0m\u001b[0;34m\u001b[0m\u001b[0;34m\u001b[0m\u001b[0m\n\u001b[1;32m      2\u001b[0m \u001b[0mlogger\u001b[0m \u001b[0;34m=\u001b[0m \u001b[0mLogger\u001b[0m\u001b[0;34m(\u001b[0m\u001b[0;34m\"log/sim.txt\"\u001b[0m\u001b[0;34m)\u001b[0m\u001b[0;34m\u001b[0m\u001b[0;34m\u001b[0m\u001b[0m\n\u001b[0;32m----> 3\u001b[0;31m \u001b[0msimulator\u001b[0m\u001b[0;34m,\u001b[0m \u001b[0mtrainset\u001b[0m\u001b[0;34m,\u001b[0m \u001b[0mvalset\u001b[0m \u001b[0;34m=\u001b[0m \u001b[0mdae\u001b[0m\u001b[0;34m.\u001b[0m\u001b[0mload_simulation\u001b[0m\u001b[0;34m(\u001b[0m\u001b[0margs\u001b[0m\u001b[0;34m,\u001b[0m \u001b[0mlogger\u001b[0m\u001b[0;34m)\u001b[0m\u001b[0;34m\u001b[0m\u001b[0;34m\u001b[0m\u001b[0m\n\u001b[0m",
      "\u001b[0;32m~/git/PivotCVAE/data_extract.py\u001b[0m in \u001b[0;36mload_simulation\u001b[0;34m(args, logger)\u001b[0m\n\u001b[1;32m    222\u001b[0m         \u001b[0;31m# save simulator for reuse\u001b[0m\u001b[0;34m\u001b[0m\u001b[0;34m\u001b[0m\u001b[0;34m\u001b[0m\u001b[0m\n\u001b[1;32m    223\u001b[0m         \u001b[0mlogger\u001b[0m\u001b[0;34m.\u001b[0m\u001b[0mlog\u001b[0m\u001b[0;34m(\u001b[0m\u001b[0;34m\"save simulator and generated datasets\"\u001b[0m\u001b[0;34m)\u001b[0m\u001b[0;34m\u001b[0m\u001b[0;34m\u001b[0m\u001b[0m\n\u001b[0;32m--> 224\u001b[0;31m         \u001b[0mtorch\u001b[0m\u001b[0;34m.\u001b[0m\u001b[0msave\u001b[0m\u001b[0;34m(\u001b[0m\u001b[0msimulator\u001b[0m\u001b[0;34m,\u001b[0m \u001b[0mopen\u001b[0m\u001b[0;34m(\u001b[0m\u001b[0msimulatorPath\u001b[0m \u001b[0;34m+\u001b[0m \u001b[0;34m\"_simulator\"\u001b[0m\u001b[0;34m,\u001b[0m \u001b[0;34m'wb'\u001b[0m\u001b[0;34m)\u001b[0m\u001b[0;34m)\u001b[0m\u001b[0;34m\u001b[0m\u001b[0;34m\u001b[0m\u001b[0m\n\u001b[0m\u001b[1;32m    225\u001b[0m         \u001b[0mpickle\u001b[0m\u001b[0;34m.\u001b[0m\u001b[0mdump\u001b[0m\u001b[0;34m(\u001b[0m\u001b[0mtrainset\u001b[0m\u001b[0;34m,\u001b[0m \u001b[0mopen\u001b[0m\u001b[0;34m(\u001b[0m\u001b[0msimulatorPath\u001b[0m \u001b[0;34m+\u001b[0m \u001b[0;34m\"_train\"\u001b[0m\u001b[0;34m,\u001b[0m \u001b[0;34m'wb'\u001b[0m\u001b[0;34m)\u001b[0m\u001b[0;34m)\u001b[0m\u001b[0;34m\u001b[0m\u001b[0;34m\u001b[0m\u001b[0m\n\u001b[1;32m    226\u001b[0m         \u001b[0mpickle\u001b[0m\u001b[0;34m.\u001b[0m\u001b[0mdump\u001b[0m\u001b[0;34m(\u001b[0m\u001b[0mvalset\u001b[0m\u001b[0;34m,\u001b[0m \u001b[0mopen\u001b[0m\u001b[0;34m(\u001b[0m\u001b[0msimulatorPath\u001b[0m \u001b[0;34m+\u001b[0m \u001b[0;34m\"_val\"\u001b[0m\u001b[0;34m,\u001b[0m \u001b[0;34m'wb'\u001b[0m\u001b[0;34m)\u001b[0m\u001b[0;34m)\u001b[0m\u001b[0;34m\u001b[0m\u001b[0;34m\u001b[0m\u001b[0m\n",
      "\u001b[0;31mFileNotFoundError\u001b[0m: [Errno 2] No such file or directory: '../sim_data/urmpmr_dim8_u1000_i3000_n100000_mr0.30_simulator'"
     ]
    }
   ],
   "source": [
    "from my_utils import Logger\n",
    "logger = Logger(\"log/sim.txt\")\n",
    "simulator, trainset, valset = dae.load_simulation(args, logger)"
   ]
  },
  {
   "cell_type": "code",
   "execution_count": 4,
   "metadata": {},
   "outputs": [
    {
     "name": "stdout",
     "output_type": "stream",
     "text": [
      "dir \"log\" existed\n",
      "Log file path:\n",
      "log/sim.txt+\n",
      "Construct simulation data\n",
      "\tdevice: cpu\n",
      "\tCreating document latent embedding\n",
      "\t\tDoc embedding sample: tensor([-0.2428,  0.2729, -0.0906, -0.0397,  0.2715, -0.0012,  0.3620,  0.3628],\n",
      "       grad_fn=<SelectBackward>)\n",
      "\tCreating user latent embedding\n",
      "\t\tUser embedding sample: tensor([ 0.1510, -0.1764, -0.0658, -0.3292,  0.1986,  0.4344,  0.1232, -0.1524],\n",
      "       grad_fn=<SelectBackward>)\n",
      "generating training set\n",
      "Guarantee min_user_hist requirement:\n"
     ]
    },
    {
     "name": "stderr",
     "output_type": "stream",
     "text": [
      "100%|██████████| 10010/10010 [00:00<00:00, 160299.42it/s]\n"
     ]
    },
    {
     "name": "stdout",
     "output_type": "stream",
     "text": [
      "Guarantee min_item_hist requirement:\n"
     ]
    },
    {
     "name": "stderr",
     "output_type": "stream",
     "text": [
      "100%|██████████| 30010/30010 [00:00<00:00, 198339.90it/s]\n"
     ]
    },
    {
     "name": "stdout",
     "output_type": "stream",
     "text": [
      "Generate the remaining data\n"
     ]
    },
    {
     "name": "stderr",
     "output_type": "stream",
     "text": [
      "100%|██████████| 59980/59980 [00:00<00:00, 192465.06it/s]"
     ]
    },
    {
     "name": "stdout",
     "output_type": "stream",
     "text": [
      "Number of click distribution: (array([0, 1, 2, 3, 4, 5]), array([ 1102,  6355, 15998, 20760, 12882,  2883]))\n",
      "Initialize dataset\n",
      "Slates shape: (100000, 5)\n",
      "Users shape: (100000,)\n",
      "Response shape: (100000, 5)\n",
      "Unique items: 3001\n",
      "Unique users: 1001\n",
      "User embedding is used\n",
      "generating validation set\n"
     ]
    },
    {
     "name": "stderr",
     "output_type": "stream",
     "text": [
      "\n"
     ]
    },
    {
     "name": "stdout",
     "output_type": "stream",
     "text": [
      "Guarantee min_user_hist requirement:\n"
     ]
    },
    {
     "name": "stderr",
     "output_type": "stream",
     "text": [
      "100%|██████████| 1001/1001 [00:00<00:00, 118254.23it/s]\n"
     ]
    },
    {
     "name": "stdout",
     "output_type": "stream",
     "text": [
      "Guarantee min_item_hist requirement:\n"
     ]
    },
    {
     "name": "stderr",
     "output_type": "stream",
     "text": [
      "100%|██████████| 3001/3001 [00:00<00:00, 133301.28it/s]\n"
     ]
    },
    {
     "name": "stdout",
     "output_type": "stream",
     "text": [
      "Generate the remaining data\n"
     ]
    },
    {
     "name": "stderr",
     "output_type": "stream",
     "text": [
      "100%|██████████| 5998/5998 [00:00<00:00, 149356.36it/s]"
     ]
    },
    {
     "name": "stdout",
     "output_type": "stream",
     "text": [
      "Number of click distribution: (array([0, 1, 2, 3, 4, 5]), array([  96,  658, 1558, 2135, 1287,  264]))\n",
      "Initialize dataset\n",
      "Slates shape: (10000, 5)\n",
      "Users shape: (10000,)\n",
      "Response shape: (10000, 5)\n",
      "Unique items: 3001\n",
      "Unique users: 1001\n",
      "User embedding is used\n",
      "save simulator and generated datasets\n"
     ]
    },
    {
     "name": "stderr",
     "output_type": "stream",
     "text": [
      "\n"
     ]
    }
   ],
   "source": [
    "from my_utils import Logger\n",
    "logger = Logger(\"log/sim.txt\")\n",
    "simulator, trainset, valset = dae.load_simulation(args, logger)"
   ]
  },
  {
   "cell_type": "code",
   "execution_count": 5,
   "metadata": {},
   "outputs": [
    {
     "data": {
      "image/png": "[encoded data removed]",
      "text/plain": [
       "<Figure size 720x288 with 1 Axes>"
      ]
     },
     "metadata": {
      "needs_background": "light"
     },
     "output_type": "display_data"
    }
   ],
   "source": [
    "from plot import plot_slate_response_distribution\n",
    "%matplotlib inline\n",
    "plot_slate_response_distribution(trainset.responses)"
   ]
  },
  {
   "cell_type": "code",
   "execution_count": 6,
   "metadata": {},
   "outputs": [
    {
     "name": "stdout",
     "output_type": "stream",
     "text": [
      "Initialize dataset\n",
      "Slates shape: (100000, 5)\n",
      "Users shape: (100000, 1)\n",
      "Response shape: (100000, 5)\n",
      "Unique items: 3001\n",
      "Unique users: 1001\n",
      "User embedding is used\n",
      "Before augmentation: \n",
      "(array([0., 1., 2., 3., 4., 5.]), array([ 1850, 10716, 26592, 34589, 21531,  4722]))\n",
      "Augmenting data for #click == 0\n",
      "Number of new record: 16369\n"
     ]
    },
    {
     "name": "stderr",
     "output_type": "stream",
     "text": [
      "100%|██████████| 16369/16369 [00:00<00:00, 143952.50it/s]\n"
     ]
    },
    {
     "name": "stdout",
     "output_type": "stream",
     "text": [
      "Augmenting data for #click == 1\n",
      "Number of new record: 11936\n"
     ]
    },
    {
     "name": "stderr",
     "output_type": "stream",
     "text": [
      "100%|██████████| 11936/11936 [00:00<00:00, 143620.44it/s]\n"
     ]
    },
    {
     "name": "stdout",
     "output_type": "stream",
     "text": [
      "Augmenting data for #click == 2\n",
      "Number of new record: 3998\n"
     ]
    },
    {
     "name": "stderr",
     "output_type": "stream",
     "text": [
      "100%|██████████| 3998/3998 [00:00<00:00, 126623.13it/s]\n"
     ]
    },
    {
     "name": "stdout",
     "output_type": "stream",
     "text": [
      "Augmenting data for #click == 3\n",
      "Number of new record: 0\n"
     ]
    },
    {
     "name": "stderr",
     "output_type": "stream",
     "text": [
      "0it [00:00, ?it/s]\n"
     ]
    },
    {
     "name": "stdout",
     "output_type": "stream",
     "text": [
      "Augmenting data for #click == 4\n",
      "Number of new record: 6529\n"
     ]
    },
    {
     "name": "stderr",
     "output_type": "stream",
     "text": [
      "100%|██████████| 6529/6529 [00:00<00:00, 113316.88it/s]\n"
     ]
    },
    {
     "name": "stdout",
     "output_type": "stream",
     "text": [
      "Augmenting data for #click == 5\n",
      "Number of new record: 14933\n"
     ]
    },
    {
     "name": "stderr",
     "output_type": "stream",
     "text": [
      "100%|██████████| 14933/14933 [00:00<00:00, 136913.49it/s]\n"
     ]
    },
    {
     "name": "stdout",
     "output_type": "stream",
     "text": [
      "After augmentation: \n",
      "(array([0., 1., 2., 3., 4., 5.]), array([18219, 22652, 30590, 34589, 28060, 19655]))\n",
      "Number of records: 153765\n"
     ]
    }
   ],
   "source": [
    "from data_loader import UserSlateResponseDataset\n",
    "trainset = UserSlateResponseDataset(trainset.slates, trainset.users, trainset.responses, args.nouser)\n",
    "trainset.balance_n_click()"
   ]
  },
  {
   "cell_type": "code",
   "execution_count": 7,
   "metadata": {},
   "outputs": [
    {
     "name": "stdout",
     "output_type": "stream",
     "text": [
      "dir \"results\" existed\n"
     ]
    },
    {
     "data": {
      "image/png": "[encoded data removed]",
      "text/plain": [
       "<Figure size 720x288 with 1 Axes>"
      ]
     },
     "metadata": {
      "needs_background": "light"
     },
     "output_type": "display_data"
    }
   ],
   "source": [
    "%matplotlib inline\n",
    "plot_slate_response_distribution(trainset.responses)"
   ]
  },
  {
   "cell_type": "code",
   "execution_count": 8,
   "metadata": {},
   "outputs": [
    {
     "name": "stdout",
     "output_type": "stream",
     "text": [
      "Guarantee min_user_hist requirement:\n"
     ]
    },
    {
     "name": "stderr",
     "output_type": "stream",
     "text": [
      "100%|██████████| 10010/10010 [00:00<00:00, 130926.90it/s]\n"
     ]
    },
    {
     "name": "stdout",
     "output_type": "stream",
     "text": [
      "Guarantee min_item_hist requirement:\n"
     ]
    },
    {
     "name": "stderr",
     "output_type": "stream",
     "text": [
      "100%|██████████| 30010/30010 [00:00<00:00, 178500.26it/s]\n"
     ]
    },
    {
     "name": "stdout",
     "output_type": "stream",
     "text": [
      "Generate the remaining data\n"
     ]
    },
    {
     "name": "stderr",
     "output_type": "stream",
     "text": [
      "100%|██████████| 59980/59980 [00:00<00:00, 194329.54it/s]"
     ]
    },
    {
     "name": "stdout",
     "output_type": "stream",
     "text": [
      "Number of click distribution: (array([0, 1, 2, 3, 4, 5]), array([ 1092,  6448, 16226, 20611, 12849,  2754]))\n"
     ]
    },
    {
     "name": "stderr",
     "output_type": "stream",
     "text": [
      "\n"
     ]
    }
   ],
   "source": [
    "users, slates, responses = simulator.generate_dataset(min_user_hist = 10, min_item_hist = 10, n_record = args.n_train)\n"
   ]
  },
  {
   "cell_type": "code",
   "execution_count": 9,
   "metadata": {},
   "outputs": [
    {
     "data": {
      "text/plain": [
       "tensor([[0.7704, 0.4271, 0.6784, 0.3922, 0.1589],\n",
       "        [0.9676, 0.4235, 0.2330, 0.1899, 0.6408],\n",
       "        [0.5007, 0.4300, 0.3784, 0.4654, 0.3076],\n",
       "        [0.6416, 0.6387, 0.4236, 0.5277, 0.3311]], grad_fn=<AddBackward0>)"
      ]
     },
     "execution_count": 9,
     "metadata": {},
     "output_type": "execute_result"
    }
   ],
   "source": [
    "import torch\n",
    "import numpy as np\n",
    "slates = torch.tensor([np.arange(5), np.arange(5)+5, np.arange(5)+10, np.arange(5)+15])\n",
    "users = torch.tensor([0,1,2,4])\n",
    "simulator.forward(slates, users)"
   ]
  },
  {
   "cell_type": "code",
   "execution_count": 10,
   "metadata": {},
   "outputs": [
    {
     "name": "stderr",
     "output_type": "stream",
     "text": [
      "100%|██████████| 4/4 [00:00<00:00, 891.31it/s]\n"
     ]
    },
    {
     "data": {
      "text/plain": [
       "tensor([[1, 0, 1, 0, 0],\n",
       "        [1, 0, 0, 0, 1],\n",
       "        [1, 0, 0, 0, 0],\n",
       "        [1, 1, 0, 1, 0]])"
      ]
     },
     "execution_count": 10,
     "metadata": {},
     "output_type": "execute_result"
    }
   ],
   "source": [
    "simulator.generate_response_for_dataset(users, slates)\n"
   ]
  },
  {
   "cell_type": "code",
   "execution_count": 11,
   "metadata": {},
   "outputs": [
    {
     "data": {
      "text/plain": [
       "array([0, 1, 2, 3, 4])"
      ]
     },
     "execution_count": 11,
     "metadata": {},
     "output_type": "execute_result"
    }
   ],
   "source": [
    "np.arange(5)"
   ]
  },
  {
   "cell_type": "code",
   "execution_count": 1,
   "metadata": {},
   "outputs": [
    {
     "ename": "FileNotFoundError",
     "evalue": "[Errno 2] No such file or directory: '~/Downloads/data/yoochoose-data/slate_data_size5_min20_train.pkl'",
     "output_type": "error",
     "traceback": [
      "\u001b[0;31m---------------------------------------------------------------------------\u001b[0m",
      "\u001b[0;31mFileNotFoundError\u001b[0m                         Traceback (most recent call last)",
      "\u001b[0;32m<ipython-input-1-de8a71fc4eac>\u001b[0m in \u001b[0;36m<module>\u001b[0;34m\u001b[0m\n\u001b[1;32m      1\u001b[0m \u001b[0;32mfrom\u001b[0m \u001b[0mdata_extract\u001b[0m \u001b[0;32mimport\u001b[0m \u001b[0mencode_yoochoose\u001b[0m\u001b[0;34m\u001b[0m\u001b[0;34m\u001b[0m\u001b[0m\n\u001b[0;32m----> 2\u001b[0;31m \u001b[0mencode_yoochoose\u001b[0m\u001b[0;34m(\u001b[0m\u001b[0;34m)\u001b[0m\u001b[0;34m\u001b[0m\u001b[0;34m\u001b[0m\u001b[0m\n\u001b[0m",
      "\u001b[0;32m~/git/PivotCVAE/data_extract.py\u001b[0m in \u001b[0;36mencode_yoochoose\u001b[0;34m()\u001b[0m\n\u001b[1;32m    103\u001b[0m \u001b[0;34m\u001b[0m\u001b[0m\n\u001b[1;32m    104\u001b[0m \u001b[0;32mdef\u001b[0m \u001b[0mencode_yoochoose\u001b[0m\u001b[0;34m(\u001b[0m\u001b[0;34m)\u001b[0m\u001b[0;34m:\u001b[0m\u001b[0;34m\u001b[0m\u001b[0;34m\u001b[0m\u001b[0m\n\u001b[0;32m--> 105\u001b[0;31m     \u001b[0mtrain\u001b[0m\u001b[0;34m,\u001b[0m\u001b[0mval\u001b[0m\u001b[0;34m,\u001b[0m\u001b[0mtest\u001b[0m \u001b[0;34m=\u001b[0m \u001b[0mread_yoochoose\u001b[0m\u001b[0;34m(\u001b[0m\u001b[0mfrom_encoded\u001b[0m \u001b[0;34m=\u001b[0m \u001b[0;32mFalse\u001b[0m\u001b[0;34m)\u001b[0m\u001b[0;34m\u001b[0m\u001b[0;34m\u001b[0m\u001b[0m\n\u001b[0m\u001b[1;32m    106\u001b[0m \u001b[0;34m\u001b[0m\u001b[0m\n\u001b[1;32m    107\u001b[0m     \u001b[0mprint\u001b[0m\u001b[0;34m(\u001b[0m\u001b[0;34m\"Original feature shape\"\u001b[0m\u001b[0;34m)\u001b[0m\u001b[0;34m\u001b[0m\u001b[0;34m\u001b[0m\u001b[0m\n",
      "\u001b[0;32m~/git/PivotCVAE/data_extract.py\u001b[0m in \u001b[0;36mread_yoochoose\u001b[0;34m(from_encoded, entire_set)\u001b[0m\n\u001b[1;32m     78\u001b[0m     \u001b[0;32mimport\u001b[0m \u001b[0mpickle\u001b[0m\u001b[0;34m\u001b[0m\u001b[0;34m\u001b[0m\u001b[0m\n\u001b[1;32m     79\u001b[0m     \u001b[0;32mif\u001b[0m \u001b[0;32mnot\u001b[0m \u001b[0mfrom_encoded\u001b[0m\u001b[0;34m:\u001b[0m\u001b[0;34m\u001b[0m\u001b[0;34m\u001b[0m\u001b[0m\n\u001b[0;32m---> 80\u001b[0;31m         \u001b[0mtrain\u001b[0m \u001b[0;34m=\u001b[0m \u001b[0mpickle\u001b[0m\u001b[0;34m.\u001b[0m\u001b[0mload\u001b[0m\u001b[0;34m(\u001b[0m\u001b[0mopen\u001b[0m\u001b[0;34m(\u001b[0m\u001b[0mDATA_ROOT\u001b[0m \u001b[0;34m+\u001b[0m \u001b[0;34m\"yoochoose-data/slate_data_size5_min20_train.pkl\"\u001b[0m\u001b[0;34m,\u001b[0m \u001b[0;34m'rb'\u001b[0m\u001b[0;34m)\u001b[0m\u001b[0;34m)\u001b[0m\u001b[0;34m\u001b[0m\u001b[0;34m\u001b[0m\u001b[0m\n\u001b[0m\u001b[1;32m     81\u001b[0m         \u001b[0mval\u001b[0m \u001b[0;34m=\u001b[0m \u001b[0mpickle\u001b[0m\u001b[0;34m.\u001b[0m\u001b[0mload\u001b[0m\u001b[0;34m(\u001b[0m\u001b[0mopen\u001b[0m\u001b[0;34m(\u001b[0m\u001b[0mDATA_ROOT\u001b[0m \u001b[0;34m+\u001b[0m \u001b[0;34m\"yoochoose-data/slate_data_size5_min20_val.pkl\"\u001b[0m\u001b[0;34m,\u001b[0m \u001b[0;34m'rb'\u001b[0m\u001b[0;34m)\u001b[0m\u001b[0;34m)\u001b[0m\u001b[0;34m\u001b[0m\u001b[0;34m\u001b[0m\u001b[0m\n\u001b[1;32m     82\u001b[0m         \u001b[0mtest\u001b[0m \u001b[0;34m=\u001b[0m \u001b[0mpickle\u001b[0m\u001b[0;34m.\u001b[0m\u001b[0mload\u001b[0m\u001b[0;34m(\u001b[0m\u001b[0mopen\u001b[0m\u001b[0;34m(\u001b[0m\u001b[0mDATA_ROOT\u001b[0m \u001b[0;34m+\u001b[0m \u001b[0;34m\"yoochoose-data/slate_data_size5_min20_test.pkl\"\u001b[0m\u001b[0;34m,\u001b[0m \u001b[0;34m'rb'\u001b[0m\u001b[0;34m)\u001b[0m\u001b[0;34m)\u001b[0m\u001b[0;34m\u001b[0m\u001b[0;34m\u001b[0m\u001b[0m\n",
      "\u001b[0;31mFileNotFoundError\u001b[0m: [Errno 2] No such file or directory: '~/Downloads/data/yoochoose-data/slate_data_size5_min20_train.pkl'"
     ]
    }
   ],
   "source": [
    "from data_extract import encode_yoochoose\n",
    "encode_yoochoose()"
   ]
  },
  {
   "cell_type": "code",
   "execution_count": 1,
   "metadata": {},
   "outputs": [
    {
     "name": "stdout",
     "output_type": "stream",
     "text": [
      "Namespace(balance=False, dataset='urmpmr', mr_factor=0.3, n_item=3000, n_test=10000, n_train=100000, n_user=1000, n_val=10000, nouser=False, pbias_max=0.1, pbias_min=-0.1, s=5, sim_dim=8, sim_root=False)\n"
     ]
    }
   ],
   "source": [
    "import argparse\n",
    "import data_extract as dae\n",
    "parser = argparse.ArgumentParser()\n",
    "parser = dae.add_sim_parse(parser)\n",
    "parser = dae.add_data_parse(parser)\n",
    "args = parser.parse_args(\"\")\n",
    "\n",
    "args.n_user = 1000\n",
    "args.n_item = 3000\n",
    "args.dataset = \"urmpmr\"\n",
    "args.pbias_min = -0.1\n",
    "args.pbias_max = 0.1\n",
    "args.mr_factor = 0.3\n",
    "# args.balance = True\n",
    "print(args)"
   ]
  },
  {
   "cell_type": "code",
   "execution_count": 2,
   "metadata": {},
   "outputs": [
    {
     "name": "stdout",
     "output_type": "stream",
     "text": [
      "dir \"log\" existed\n",
      "Log file path:\n",
      "log/sim.txt++\n",
      "Construct simulation data\n",
      "\tdevice: cpu\n",
      "\tCreating document latent embedding\n",
      "\t\tDoc embedding sample: tensor([ 0.0333, -0.2621, -0.3908, -0.1742, -0.3231, -0.1833,  0.2616,  0.1933],\n",
      "       grad_fn=<SelectBackward>)\n",
      "\tCreating user latent embedding\n",
      "\t\tUser embedding sample: tensor([-0.4187, -0.2621,  0.3238, -0.3052,  0.0579,  0.4997,  0.0693, -0.3067],\n",
      "       grad_fn=<SelectBackward>)\n",
      "generating training set\n",
      "Guarantee min_user_hist requirement:\n"
     ]
    },
    {
     "name": "stderr",
     "output_type": "stream",
     "text": [
      "100%|██████████| 10010/10010 [00:00<00:00, 146142.49it/s]\n"
     ]
    },
    {
     "name": "stdout",
     "output_type": "stream",
     "text": [
      "Guarantee min_item_hist requirement:\n"
     ]
    },
    {
     "name": "stderr",
     "output_type": "stream",
     "text": [
      "100%|██████████| 30010/30010 [00:00<00:00, 197919.81it/s]\n"
     ]
    },
    {
     "name": "stdout",
     "output_type": "stream",
     "text": [
      "Generate the remaining data\n"
     ]
    },
    {
     "name": "stderr",
     "output_type": "stream",
     "text": [
      "100%|██████████| 59980/59980 [00:00<00:00, 209587.48it/s]\n"
     ]
    },
    {
     "name": "stdout",
     "output_type": "stream",
     "text": [
      "Number of click distribution: (array([0, 1, 2, 3, 4, 5]), array([  485,  5131, 16614, 22171, 12948,  2631]))\n",
      "Initialize dataset\n",
      "Slates shape: (100000, 5)\n",
      "Users shape: (100000,)\n",
      "Response shape: (100000, 5)\n",
      "Unique items: 3001\n",
      "Unique users: 1001\n",
      "User embedding is used\n",
      "generating validation set\n",
      "Guarantee min_user_hist requirement:\n"
     ]
    },
    {
     "name": "stderr",
     "output_type": "stream",
     "text": [
      "100%|██████████| 1001/1001 [00:00<00:00, 130388.15it/s]\n"
     ]
    },
    {
     "name": "stdout",
     "output_type": "stream",
     "text": [
      "Guarantee min_item_hist requirement:\n"
     ]
    },
    {
     "name": "stderr",
     "output_type": "stream",
     "text": [
      "100%|██████████| 3001/3001 [00:00<00:00, 151436.59it/s]\n"
     ]
    },
    {
     "name": "stdout",
     "output_type": "stream",
     "text": [
      "Generate the remaining data\n"
     ]
    },
    {
     "name": "stderr",
     "output_type": "stream",
     "text": [
      "100%|██████████| 5998/5998 [00:00<00:00, 166388.46it/s]"
     ]
    },
    {
     "name": "stdout",
     "output_type": "stream",
     "text": [
      "Number of click distribution: (array([0, 1, 2, 3, 4, 5]), array([  54,  513, 1636, 2236, 1286,  273]))\n",
      "Initialize dataset\n",
      "Slates shape: (10000, 5)\n",
      "Users shape: (10000,)\n",
      "Response shape: (10000, 5)\n",
      "Unique items: 3001\n",
      "Unique users: 1001\n",
      "User embedding is used\n",
      "save simulator and generated datasets\n"
     ]
    },
    {
     "name": "stderr",
     "output_type": "stream",
     "text": [
      "\n"
     ]
    }
   ],
   "source": [
    "from my_utils import Logger\n",
    "logger = Logger(\"log/sim.txt\")\n",
    "simulator, trainset, valset = dae.load_simulation(args, logger)"
   ]
  },
  {
   "cell_type": "code",
   "execution_count": 3,
   "metadata": {},
   "outputs": [
    {
     "name": "stdout",
     "output_type": "stream",
     "text": [
      "dir \"results\" existed\n"
     ]
    },
    {
     "data": {
      "image/png": "[encoded data removed]",
      "text/plain": [
       "<Figure size 720x288 with 1 Axes>"
      ]
     },
     "metadata": {
      "needs_background": "light"
     },
     "output_type": "display_data"
    }
   ],
   "source": [
    "from plot import plot_slate_response_distribution\n",
    "%matplotlib inline\n",
    "plot_slate_response_distribution(trainset.responses)"
   ]
  },
  {
   "cell_type": "code",
   "execution_count": 4,
   "metadata": {},
   "outputs": [
    {
     "name": "stdout",
     "output_type": "stream",
     "text": [
      "Initialize dataset\n",
      "Slates shape: (100000, 5)\n",
      "Users shape: (100000, 1)\n",
      "Response shape: (100000, 5)\n",
      "Unique items: 3001\n",
      "Unique users: 1001\n",
      "User embedding is used\n",
      "Before augmentation: \n",
      "(array([0., 1., 2., 3., 4., 5.]), array([  793,  8551, 27681, 36981, 21500,  4494]))\n",
      "Augmenting data for #click == 0\n",
      "Number of new record: 18094\n"
     ]
    },
    {
     "name": "stderr",
     "output_type": "stream",
     "text": [
      "100%|██████████| 18094/18094 [00:00<00:00, 145997.03it/s]\n"
     ]
    },
    {
     "name": "stdout",
     "output_type": "stream",
     "text": [
      "Augmenting data for #click == 1\n",
      "Number of new record: 14215\n"
     ]
    },
    {
     "name": "stderr",
     "output_type": "stream",
     "text": [
      "100%|██████████| 14215/14215 [00:00<00:00, 154810.55it/s]\n"
     ]
    },
    {
     "name": "stdout",
     "output_type": "stream",
     "text": [
      "Augmenting data for #click == 2\n",
      "Number of new record: 4650\n"
     ]
    },
    {
     "name": "stderr",
     "output_type": "stream",
     "text": [
      "100%|██████████| 4650/4650 [00:00<00:00, 139047.61it/s]\n"
     ]
    },
    {
     "name": "stdout",
     "output_type": "stream",
     "text": [
      "Augmenting data for #click == 3\n",
      "Number of new record: 0\n"
     ]
    },
    {
     "name": "stderr",
     "output_type": "stream",
     "text": [
      "0it [00:00, ?it/s]\n"
     ]
    },
    {
     "name": "stdout",
     "output_type": "stream",
     "text": [
      "Augmenting data for #click == 4\n",
      "Number of new record: 7740\n"
     ]
    },
    {
     "name": "stderr",
     "output_type": "stream",
     "text": [
      "100%|██████████| 7740/7740 [00:00<00:00, 131019.63it/s]\n"
     ]
    },
    {
     "name": "stdout",
     "output_type": "stream",
     "text": [
      "Augmenting data for #click == 5\n",
      "Number of new record: 16243\n"
     ]
    },
    {
     "name": "stderr",
     "output_type": "stream",
     "text": [
      "100%|██████████| 16243/16243 [00:00<00:00, 134296.24it/s]\n"
     ]
    },
    {
     "name": "stdout",
     "output_type": "stream",
     "text": [
      "After augmentation: \n",
      "(array([0., 1., 2., 3., 4., 5.]), array([18887, 22766, 32331, 36981, 29240, 20737]))\n",
      "Number of records: 160942\n"
     ]
    }
   ],
   "source": [
    "from data_loader import UserSlateResponseDataset\n",
    "trainset = UserSlateResponseDataset(trainset.slates, trainset.users, trainset.responses, args.nouser)\n",
    "trainset.balance_n_click()"
   ]
  },
  {
   "cell_type": "code",
   "execution_count": 5,
   "metadata": {},
   "outputs": [
    {
     "name": "stdout",
     "output_type": "stream",
     "text": [
      "dir \"results\" existed\n"
     ]
    },
    {
     "data": {
      "image/png": "[encoded data removed]",
      "text/plain": [
       "<Figure size 720x288 with 1 Axes>"
      ]
     },
     "metadata": {
      "needs_background": "light"
     },
     "output_type": "display_data"
    }
   ],
   "source": [
    "\n",
    "%matplotlib inline\n",
    "plot_slate_response_distribution(trainset.responses)"
   ]
  },
  {
   "cell_type": "code",
   "execution_count": 6,
   "metadata": {},
   "outputs": [
    {
     "name": "stdout",
     "output_type": "stream",
     "text": [
      "Guarantee min_user_hist requirement:\n"
     ]
    },
    {
     "name": "stderr",
     "output_type": "stream",
     "text": [
      "100%|██████████| 10010/10010 [00:00<00:00, 153370.36it/s]\n"
     ]
    },
    {
     "name": "stdout",
     "output_type": "stream",
     "text": [
      "Guarantee min_item_hist requirement:\n"
     ]
    },
    {
     "name": "stderr",
     "output_type": "stream",
     "text": [
      "100%|██████████| 30010/30010 [00:00<00:00, 207078.25it/s]\n"
     ]
    },
    {
     "name": "stdout",
     "output_type": "stream",
     "text": [
      "Generate the remaining data\n"
     ]
    },
    {
     "name": "stderr",
     "output_type": "stream",
     "text": [
      "100%|██████████| 59980/59980 [00:00<00:00, 210964.53it/s]"
     ]
    },
    {
     "name": "stdout",
     "output_type": "stream",
     "text": [
      "Number of click distribution: (array([0, 1, 2, 3, 4, 5]), array([  455,  5091, 16709, 22245, 12742,  2738]))\n"
     ]
    },
    {
     "name": "stderr",
     "output_type": "stream",
     "text": [
      "\n"
     ]
    }
   ],
   "source": [
    "users, slates, responses = simulator.generate_dataset(min_user_hist = 10, min_item_hist = 10, n_record = args.n_train)"
   ]
  },
  {
   "cell_type": "code",
   "execution_count": 7,
   "metadata": {},
   "outputs": [
    {
     "data": {
      "text/plain": [
       "tensor([[0.3807, 0.3738, 0.2865, 0.5279, 0.4826],\n",
       "        [0.8945, 0.3836, 1.1829, 0.3720, 0.4024],\n",
       "        [0.9192, 0.9595, 0.5845, 0.5348, 0.0603],\n",
       "        [0.4987, 0.5498, 0.6423, 0.5893, 0.3033]], grad_fn=<AddBackward0>)"
      ]
     },
     "execution_count": 7,
     "metadata": {},
     "output_type": "execute_result"
    }
   ],
   "source": [
    "\n",
    "import torch\n",
    "import numpy as np\n",
    "slates = torch.tensor([np.arange(5), np.arange(5)+5, np.arange(5)+10, np.arange(5)+15])\n",
    "users = torch.tensor([0,1,2,4])\n",
    "simulator.forward(slates, users)"
   ]
  },
  {
   "cell_type": "code",
   "execution_count": null,
   "metadata": {},
   "outputs": [],
   "source": []
  }
 ],
 "metadata": {
  "kernelspec": {
   "display_name": "Python 3",
   "language": "python",
   "name": "python3"
  },
  "language_info": {
   "codemirror_mode": {
    "name": "ipython",
    "version": 3
   },
   "file_extension": ".py",
   "mimetype": "text/x-python",
   "name": "python",
   "nbconvert_exporter": "python",
   "pygments_lexer": "ipython3",
   "version": "3.8.5"
  }
 },
 "nbformat": 4,
 "nbformat_minor": 2
}
