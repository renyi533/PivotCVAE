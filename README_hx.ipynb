{
 "cells": [
  {
   "cell_type": "code",
   "execution_count": 3,
   "id": "3f06d2e0-b12a-4860-9774-cbaa7479662e",
   "metadata": {},
   "outputs": [
    {
     "name": "stderr",
     "output_type": "stream",
     "text": [
      "80000it [00:00, 584543.47it/s]\n",
      "80000it [00:00, 600952.66it/s]\n"
     ]
    },
    {
     "name": "stdout",
     "output_type": "stream",
     "text": [
      "num_user: 943\n",
      "number of samples: 15632\n",
      "../data/movielens/train1_slate.csv already exists!\n",
      "num_user: 943\n"
     ]
    },
    {
     "name": "stderr",
     "output_type": "stream",
     "text": [
      "80000it [00:00, 608746.87it/s]\n"
     ]
    },
    {
     "name": "stdout",
     "output_type": "stream",
     "text": [
      "number of samples: 15621\n",
      "../data/movielens/train2_slate.csv already exists!\n",
      "num_user: 943\n",
      "number of samples: 15639\n",
      "../data/movielens/train3_slate.csv already exists!\n"
     ]
    },
    {
     "name": "stderr",
     "output_type": "stream",
     "text": [
      "80000it [00:00, 623699.92it/s]\n",
      "0it [00:00, ?it/s]"
     ]
    },
    {
     "name": "stdout",
     "output_type": "stream",
     "text": [
      "num_user: 943\n",
      "number of samples: 15619\n",
      "../data/movielens/train4_slate.csv already exists!\n"
     ]
    },
    {
     "name": "stderr",
     "output_type": "stream",
     "text": [
      "80000it [00:00, 928940.12it/s]"
     ]
    },
    {
     "name": "stdout",
     "output_type": "stream",
     "text": [
      "num_user: 943\n",
      "number of samples: 15630\n",
      "../data/movielens/train5_slate.csv already exists!\n"
     ]
    },
    {
     "name": "stderr",
     "output_type": "stream",
     "text": [
      "\n"
     ]
    }
   ],
   "source": [
    "# preproccess data: movielens-100\n",
    "\n",
    "# 首先把每个user的slate划分为size为5\n",
    "# rating: 4-5 label 1\n",
    "# rating: 0-3 label 0\n",
    "# format: \n",
    "# DATA_ROOT + \"movielens/test_slate.csv\":  5个int类型： item1,item2,item3,item4,item5\n",
    "# DATA_ROOT + \"movielens/test_user.csv: 1个int类型：uid\n",
    "# DATA_ROOT + \"movielens/test_resp.csv: 5个int类型： [1,0,0,0,0]\n",
    "import pandas as pb\n",
    "import csv\n",
    "from tqdm import tqdm\n",
    "import os\n",
    "import pdb\n",
    "\n",
    "# 一共五份数据\n",
    "# 从./mk_100k里的u1.base/u1.test生成../data/movielens/train1_slate.csv等\n",
    "for i in range(1,6):\n",
    "    for data_type in ['base', 'test']:\n",
    "        base_dir = \"./ml_100k/u{}.\".format(i)+data_type\n",
    "        date_tyepe0 = 'train' if data_type == 'base' else 'test'\n",
    "        slate_dir = \"../data/movielens/\"+date_tyepe0+\"{}_slate.csv\".format(i)\n",
    "        user_dir = \"../data/movielens/\"+date_tyepe0+\"{}_user.csv\".format(i)\n",
    "        resp_dir = \"../data/movielens/\"+date_tyepe0+\"{}_resp.csv\".format(i)\n",
    "#         print(\"base_dir: \", base_dir)\n",
    "#         print(\"slate_dir: \", slate_dir)\n",
    "#         print(\"user_dir: \", user_dir)\n",
    "#         print(\"resp_dir: \", resp_dir)\n",
    "        user_dict = {}\n",
    "        with open(base_dir, 'rt') as u1test:\n",
    "            data = csv.reader(u1test)\n",
    "            for row in tqdm(data):\n",
    "                user_id, item_id, rating, time = row[0].split('\\t')\n",
    "                if user_id not in user_dict:\n",
    "                    user_dict[user_id] = [[time, item_id, rating]]\n",
    "                else:\n",
    "                    user_dict[user_id].append([time, item_id, rating])\n",
    "            print('num_user:', len(user_dict.keys()))\n",
    "        slate_set = []\n",
    "        resp_set = []\n",
    "        user_set = []\n",
    "        for key in user_dict.keys():\n",
    "            # 按照时间戳排序\n",
    "            user_dict[key] = sorted(user_dict[key])\n",
    "            # 遍历所有的uid, 在当前的uid下，每5个item作为一个slate\n",
    "              # 提取出所有的\n",
    "            item = [item for _, item, rating in user_dict[key]]\n",
    "            rating = [1 if int(rating) > 3 else 0 for _, item, rating in user_dict[key]]\n",
    "            for k in range(0, len(user_dict[key])//5*5, 5):\n",
    "                resp_set.append(rating[k:k+5])\n",
    "                user_set.append(key)\n",
    "                slate_set.append(item[k:k+5])        \n",
    "        print('number of samples:', len(user_set))\n",
    "        if not os.path.exists(\"../data/movielens/\"):\n",
    "            os.makedirs(\"../data/movielens/\")\n",
    "        if os.path.exists(slate_dir):\n",
    "            print(slate_dir ,\"already exists!\")\n",
    "            break\n",
    "        if os.path.exists(user_dir):\n",
    "            print(user_dir ,\"already exists!\")\n",
    "            break\n",
    "        if os.path.exists(resp_dir):\n",
    "            print(resp_dir ,\"already exists!\")\n",
    "            break \n",
    "        with open(slate_dir, 'wt') as u1test_slate:\n",
    "            cw1 = csv.writer(u1test_slate)\n",
    "            for slate in slate_set:\n",
    "                cw1.writerow(slate)\n",
    "        with open(user_dir, 'wt') as u1test_user:\n",
    "            cw2 = csv.writer(u1test_user)\n",
    "            for user in user_set:\n",
    "                cw2.writerow(user)\n",
    "        with open(resp_dir, 'wt') as u1test_resp:\n",
    "            cw3 = csv.writer(u1test_resp)\n",
    "            for resp in resp_set:\n",
    "                cw3.writerow(resp)"
   ]
  },
  {
   "cell_type": "markdown",
   "id": "a37799ce-f9a0-42b3-bb93-f6928533d4ae",
   "metadata": {},
   "source": [
    "# training, movilens-100k\n",
    "* Example 1 neuFM\n",
    "> python train_deterministic.py --dataset movielens --resp_path resp/movielens/resp_[48,256,256,5]_dim8__BS64_lr0.00100_decay0.00100 --model neumf --dim 8 --s 5 --batch_size 64 --lr 0.0003 --wdecay 0.0001 --device cuda:0 --nneg 50 --struct [16,256,256,1] --epoch 25 --early_stop 0\n",
    "\n",
    "\n",
    "* Example 2 neuFM+cvae, mse_weight 0.01\n",
    "> python train_deterministic.py --dataset movielens --resp_path resp/movielens/resp_[48,256,256,5]_dim8__BS64_lr0.00100_decay0.00100 --model neumf_cvae --dim 8 --s 5 --batch_size 64 --lr 0.0003 --wdecay 0.0001 --device cuda:0 --nneg 50 --struct [32,256,256,1] --epoch 35 --early_stop 0 --mse_weight 0.01\n",
    "\n",
    "* Example 3 PFD\n",
    "> python train_deterministic.py --dataset movielens --resp_path resp/movielens/resp_[48,256,256,5]_dim8__BS64_lr0.00100_decay0.00100 --model pfd --dim 8 --s 5 --batch_size 64 --lr 0.0003 --wdecay 0.0001 --device cuda:0 --nneg 50 --struct [16,256,256,1] --epoch 35 --early_stop 0"
   ]
  },
  {
   "cell_type": "code",
   "execution_count": null,
   "id": "78eb4557-c952-47b2-8551-044652f02fb1",
   "metadata": {},
   "outputs": [],
   "source": []
  }
 ],
 "metadata": {
  "kernelspec": {
   "display_name": "Python 3",
   "language": "python",
   "name": "python3"
  },
  "language_info": {
   "codemirror_mode": {
    "name": "ipython",
    "version": 3
   },
   "file_extension": ".py",
   "mimetype": "text/x-python",
   "name": "python",
   "nbconvert_exporter": "python",
   "pygments_lexer": "ipython3",
   "version": "3.6.8"
  }
 },
 "nbformat": 4,
 "nbformat_minor": 5
}
